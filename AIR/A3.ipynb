{
  "nbformat": 4,
  "nbformat_minor": 0,
  "metadata": {
    "colab": {
      "name": "chatbot.ipynb",
      "provenance": []
    },
    "kernelspec": {
      "name": "python3",
      "display_name": "Python 3"
    }
  },
  "cells": [
    {
      "cell_type": "code",
      "metadata": {
        "colab": {
          "base_uri": "https://localhost:8080/"
        },
        "id": "Tx3yuzj8edPK",
        "outputId": "d83ac3f3-07a7-4a6d-e99f-81b68b020d27"
      },
      "source": [
        "from nltk.chat.util import Chat, reflections\n",
        "\n",
        "pairs = [\n",
        "            [\n",
        "                r\"my name is(.*)\",\n",
        "                [\"Hello %1, how are you today?\",]\n",
        "            ],\n",
        "            [\n",
        "                r\"how are you?\",\n",
        "                [\"I am fine.\",]\n",
        "            ]\n",
        "            [\n",
        "                r\"what is your name?\",\n",
        "                [\"My name is Jarvis and I will help you with your finacial queries today.\",]\n",
        "            ],\n",
        "            [\n",
        "                r\"what are various investment options?\",\n",
        "                [\"There are various investment options- 1.Fixed Deposits \\n 2.Gold Bonds \\n 3.Mutual Funds \",]\n",
        "            ]\n",
        "            [\n",
        "                r\"Fixed Deposits(.*)\",\n",
        "                [ \"Banks\",]\n",
        "            ]\n",
        "            [\n",
        "                r\"Gold Bonds\",\n",
        "                [\"Finance options\",]\n",
        "            ]\n",
        "            [\n",
        "                r\"Mutual Funds\",\n",
        "                [\"Share Market\",]\n",
        "            ]\n",
        "            [\n",
        "                r\"where to put(.*)money\",\n",
        "                [\"Basically there are many options to invest- 1.Regional and 2.Stocks.\\nIn which section would you like to invest?\",]\n",
        "            ],\n",
        "            [\n",
        "                r\"Regional(.*)\",\n",
        "                [\"There are many- SBI,HSBC,DB. Which bank would you like to go for?\",]\n",
        "            ],\n",
        "            [\n",
        "                r\"SBI(.*)\",\n",
        "                [\"SBI offers 10 percent Interest.\",]\n",
        "            ],\n",
        "            [\n",
        "                r\"DB(.*)\",\n",
        "                [\"DB offers 09 percent Interest.\",]\n",
        "            ],\n",
        "            [\n",
        "                r\"HSBC(.*)\",\n",
        "                [\"HSBC offers 11 percent Interest.\",]\n",
        "            ],\n",
        "            [\n",
        "                r\"(.*)Stocks(.*)\",\n",
        "                [\"We have 2 companies to offer: 1. AAA 2. BBB.\\n choose any one to know more.\\n\",]\n",
        "            ],\n",
        "            [\n",
        "                r\"AAA(.*)\",\n",
        "                [\"The company AAA has a ROI = 10 percent\",]\n",
        "            ],\n",
        "            [\n",
        "                r\"BBB(.*)\",\n",
        "                [\"The company BBB has a ROI = 12 percent\",]\n",
        "            ],\n",
        "            [\n",
        "                r\"hi|hey|hello(.*)\",\n",
        "                [\"Hello\", \"Hey there\",]\n",
        "            ],\n",
        "            [\n",
        "                r\"quit\",\n",
        "                [\"Signing out, see you again ^_^\",]\n",
        "            ],\n",
        "        ]\n",
        "\n",
        "def chatbot():\n",
        "    '''Chat is the class that contains all the logic to be used by the chatbot,\n",
        "    reflections is a predefined dictionary containing a set of input values and it's corresponding output values\n",
        "    '''\n",
        "    print(\"Booting up...\\nHey I am a simple ChatBot made without ML, only using NLTK library.\\n Please type in English language (lower case) what you want to ask me.\\nPress quit to exit\")\n",
        "    chat = Chat(pairs, reflections)\n",
        "    chat.converse()\n",
        "\n",
        "if __name__ == \"__main__\":\n",
        "    chatbot()"
      ],
      "execution_count": null,
      "outputs": [
        {
          "output_type": "stream",
          "text": [
            "Booting up...\n",
            "Hey I am a simple ChatBot made without ML, only using NLTK library.\n",
            " Please type in English language (lower case) what you want to ask me.\n",
            "Press Q to exit\n",
            ">my name is riya\n",
            "Hello  riya, how are you today?\n",
            ">good\n",
            "None\n",
            ">where to put money\n",
            "Basically there are many options to invest- 1.Regional and 2.Stocks.\n",
            "In which section would you like to invest?\n",
            ">regional\n",
            "There are many- SBI,HSBC,DB. Which bank would you like to go for?\n",
            ">sbi\n",
            "SBI offers 10 percent Interest.\n",
            ">ok\n",
            "None\n",
            ">q\n",
            "None\n",
            ">Q\n",
            "None\n",
            ">quit\n",
            "Signing out, see you again ^_^\n"
          ],
          "name": "stdout"
        }
      ]
    },
    {
      "cell_type": "code",
      "metadata": {
        "id": "5DwMBjaPee3h"
      },
      "source": [
        ""
      ],
      "execution_count": null,
      "outputs": []
    }
  ]
}