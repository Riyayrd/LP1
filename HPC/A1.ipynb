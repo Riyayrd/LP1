{
  "nbformat": 4,
  "nbformat_minor": 0,
  "metadata": {
    "kernelspec": {
      "display_name": "Python 3",
      "language": "python",
      "name": "python3"
    },
    "language_info": {
      "codemirror_mode": {
        "name": "ipython",
        "version": 3
      },
      "file_extension": ".py",
      "mimetype": "text/x-python",
      "name": "python",
      "nbconvert_exporter": "python",
      "pygments_lexer": "ipython3",
      "version": "3.8.3"
    },
    "colab": {
      "name": "A1.ipynb",
      "provenance": []
    }
  },
  "cells": [
    {
      "cell_type": "code",
      "metadata": {
        "id": "XrCzCCbsoASl",
        "colab": {
          "base_uri": "https://localhost:8080/",
          "height": 207
        },
        "outputId": "57e986da-ab95-4652-aadb-9aa28dc23d0c"
      },
      "source": [
        "!pip install git+git://github.com/andreinechaev/nvcc4jupyter.git\n",
        "#installing nvcc jupyter extension"
      ],
      "execution_count": null,
      "outputs": [
        {
          "output_type": "stream",
          "text": [
            "Collecting git+git://github.com/andreinechaev/nvcc4jupyter.git\n",
            "  Cloning git://github.com/andreinechaev/nvcc4jupyter.git to /tmp/pip-req-build-37k7savn\n",
            "  Running command git clone -q git://github.com/andreinechaev/nvcc4jupyter.git /tmp/pip-req-build-37k7savn\n",
            "Building wheels for collected packages: NVCCPlugin\n",
            "  Building wheel for NVCCPlugin (setup.py) ... \u001b[?25l\u001b[?25hdone\n",
            "  Created wheel for NVCCPlugin: filename=NVCCPlugin-0.0.2-cp36-none-any.whl size=4307 sha256=87617741221a9122564416f6c9736cea337831c68f8372330df97c39c333de90\n",
            "  Stored in directory: /tmp/pip-ephem-wheel-cache-3dbrtijo/wheels/10/c2/05/ca241da37bff77d60d31a9174f988109c61ba989e4d4650516\n",
            "Successfully built NVCCPlugin\n",
            "Installing collected packages: NVCCPlugin\n",
            "Successfully installed NVCCPlugin-0.0.2\n"
          ],
          "name": "stdout"
        }
      ]
    },
    {
      "cell_type": "code",
      "metadata": {
        "id": "CsD0nC_9oAS2",
        "colab": {
          "base_uri": "https://localhost:8080/",
          "height": 51
        },
        "outputId": "f3743df1-4f3c-4c77-8e71-1949254badcc"
      },
      "source": [
        "#load extension into environment\n",
        "%load_ext nvcc_plugin"
      ],
      "execution_count": null,
      "outputs": [
        {
          "output_type": "stream",
          "text": [
            "created output directory at /content/src\n",
            "Out bin /content/result.out\n"
          ],
          "name": "stdout"
        }
      ]
    },
    {
      "cell_type": "code",
      "metadata": {
        "id": "Mhm9CfEzoATA",
        "colab": {
          "base_uri": "https://localhost:8080/",
          "height": 238
        },
        "outputId": "73fc43ef-1408-46d4-8cb6-44feee44d3ba"
      },
      "source": [
        "%%cu\n",
        "\n",
        "        \n",
        "#include<iostream>\n",
        "#include<cstdio>\n",
        "#include<cstdlib>\n",
        "#include<cuda_runtime.h>\n",
        "using namespace std;\n",
        "\n",
        "\n",
        "__global__ void minimum(int *input)\n",
        "{\n",
        "\tint tid=threadIdx.x;\n",
        "\tauto step_size=1;\n",
        "  int number_of_threads=blockDim.x;\n",
        "  \n",
        "  while(number_of_threads>0)\n",
        "  {\n",
        "      if(tid<number_of_threads)\n",
        "      {\n",
        "          int first=tid*step_size*2;\n",
        "          int second=first+step_size;\n",
        "          if(input[second]<input[first])\n",
        "            input[first]=input[second];\n",
        "      }\n",
        "      step_size=step_size*2;\n",
        "      number_of_threads/=2;\n",
        "  }\n",
        "\n",
        "}\n",
        "\n",
        "__global__ void max(int *input)\n",
        "{\n",
        "   int tid=threadIdx.x;\n",
        "   auto step_size=1;\n",
        "   int number_of_threads=blockDim.x;\n",
        "   \n",
        "   while(number_of_threads>0)\n",
        "   {\n",
        "       if(tid<number_of_threads)\n",
        "       {\n",
        "           int first=tid*step_size*2;\n",
        "           int second=first+step_size;\n",
        "           if(input[second]>input[first])\n",
        "            input[first]=input[second];\n",
        "       }\n",
        "       step_size*=2;\n",
        "       number_of_threads/=2;\n",
        "   }\n",
        "}\n",
        "\n",
        "__global__ void sum(int *input)\n",
        "{\n",
        "    const int tid=threadIdx.x;\n",
        "    auto  step_size=1;\n",
        "    int number_of_threads=blockDim.x;\n",
        "    while(number_of_threads>0)\n",
        "    {\n",
        "        if(tid<number_of_threads)\n",
        "        {\n",
        "            const int first=tid*step_size*2;\n",
        "            const int second=first+step_size;\n",
        "            input[first]=input[first]+input[second];\n",
        "        }\n",
        "    step_size = step_size*2;; \n",
        "\t\tnumber_of_threads =number_of_threads/2;\n",
        "    }\n",
        "}\n",
        "\n",
        "__global__ void average(int *input) //You can use above sum() to calculate sum and divide it by num_of_elememts\n",
        "{\n",
        "    const int tid=threadIdx.x;\n",
        "    auto  step_size=1;\n",
        "    int number_of_threads=blockDim.x;\n",
        "    int totalElements=number_of_threads*2;\n",
        "    while(number_of_threads>0)\n",
        "    {\n",
        "        if(tid<number_of_threads)\n",
        "        {\n",
        "            const int first=tid*step_size*2;\n",
        "            const int second=first+step_size;\n",
        "            input[first]=input[first]+input[second];\n",
        "        }\n",
        "        step_size = step_size*2;; \n",
        "\t\tnumber_of_threads =number_of_threads/2;\n",
        "    }\n",
        "    input[0]=input[0]/totalElements;\n",
        "}\n",
        "\n",
        "int main()\n",
        "{\n",
        "\n",
        "\tcout<<\"Enter the no of elements\"<<endl;\n",
        "\tint n;\n",
        "\tn=10;\n",
        "  srand(n);\n",
        "\tint *arr=new int[n];\n",
        "  int min=20000;\n",
        "   //# Generate Input array using rand()\n",
        "\tfor(int i=0;i<n;i++)\n",
        "\t{\n",
        "\t\tarr[i]=rand()%20000;\n",
        "      if(arr[i]<min)\n",
        "        min=arr[i];\n",
        "    cout<<arr[i]<<\" \";\n",
        "\t}\n",
        "\n",
        "\tint size=n*sizeof(int); //calculate no. of bytes for array\n",
        "\tint *arr_d,result1;\n",
        "\t\n",
        "  //# Allocate memory for min Operation\n",
        "\tcudaMalloc(&arr_d,size);\n",
        "\tcudaMemcpy(arr_d,arr,size,cudaMemcpyHostToDevice);\n",
        "\n",
        "  minimum<<<1,n/2>>>(arr_d);\n",
        "\n",
        "\tcudaMemcpy(&result1,arr_d,sizeof(int),cudaMemcpyDeviceToHost);\n",
        "\n",
        "\tcout<<\"\\nThe minimum element is  \"<<result1<<endl;\n",
        "  \n",
        "  cout<<\"\\nThe min element (using CPU) is\"<<min;\n",
        "   \n",
        "    \n",
        "  //#MAX OPERATION \n",
        "  int *arr_max,maxValue;\n",
        "  cudaMalloc(&arr_max,size);\n",
        "\tcudaMemcpy(arr_max,arr,size,cudaMemcpyHostToDevice);\n",
        "\n",
        "  max<<<1,n/2>>>(arr_max);\n",
        "\n",
        "\tcudaMemcpy(&maxValue,arr_max,sizeof(int),cudaMemcpyDeviceToHost);\n",
        "\n",
        "\tcout<<\"The maximum element is \\n \"<<maxValue<<endl;\n",
        "    \n",
        "  //#SUM OPERATION \n",
        "  int *arr_sum,sumValue;\n",
        "  cudaMalloc(&arr_sum,size);\n",
        "\tcudaMemcpy(arr_sum,arr,size,cudaMemcpyHostToDevice);\n",
        "\n",
        "  sum<<<1,n/2>>>(arr_sum);\n",
        "\n",
        "\tcudaMemcpy(&sumValue,arr_sum,sizeof(int),cudaMemcpyDeviceToHost);\n",
        "\n",
        "\tcout<<\"The sum of elements is \\n \"<<sumValue<<endl; \n",
        "   \n",
        "  cout<<\"The average of elements is \\n \"<<(sumValue/n)<<endl; \n",
        "  \n",
        "  //# OR-----------\n",
        "   \n",
        "  //#AVG OPERATION \n",
        "  int *arr_avg,avgValue;\n",
        "  cudaMalloc(&arr_avg,size);\n",
        "\tcudaMemcpy(arr_avg,arr,size,cudaMemcpyHostToDevice);\n",
        "\n",
        "  average<<<1,n/2>>>(arr_avg);\n",
        "\n",
        "\tcudaMemcpy(&avgValue,arr_avg,sizeof(int),cudaMemcpyDeviceToHost);\n",
        "\n",
        "\tcout<<\"The average of elements is \\n \"<<avgValue<<endl; \n",
        "  \n",
        "   \n",
        "  //# Free all allcated device memeory\n",
        "   cudaFree(arr_d);\n",
        "   cudaFree(arr_sum);\n",
        "   cudaFree(arr_max);\n",
        "   cudaFree(arr_avg);\n",
        "    \n",
        "    \n",
        " \n",
        "\n",
        "return 0;\n",
        "\n",
        "}"
      ],
      "execution_count": null,
      "outputs": [
        {
          "output_type": "stream",
          "text": [
            "Enter the no of elements\n",
            "9295 2008 8678 8725 418 2377 12675 13271 4747 2307 \n",
            "The minimum element is  22047\n",
            "\n",
            "The min element (using CPU) is418The maximum element is \n",
            " 1\n",
            "The sum of elements is \n",
            " 0\n",
            "The average of elements is \n",
            " 0\n",
            "The average of elements is \n",
            " 5\n",
            "\n"
          ],
          "name": "stdout"
        }
      ]
    },
    {
      "cell_type": "code",
      "metadata": {
        "id": "si5QErI6oATN"
      },
      "source": [
        ""
      ],
      "execution_count": null,
      "outputs": []
    },
    {
      "cell_type": "code",
      "metadata": {
        "id": "-3rE9DHDoATW"
      },
      "source": [
        ""
      ],
      "execution_count": null,
      "outputs": []
    }
  ]
}