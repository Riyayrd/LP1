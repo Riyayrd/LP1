{
  "nbformat": 4,
  "nbformat_minor": 0,
  "metadata": {
    "colab": {
      "name": "mpi_bfs.ipynb",
      "provenance": []
    },
    "kernelspec": {
      "name": "python3",
      "display_name": "Python 3"
    }
  },
  "cells": [
    {
      "cell_type": "code",
      "metadata": {
        "id": "Bg5o1g970gaL"
      },
      "source": [
        "code = \"\"\"\n",
        "#include<iostream>\n",
        "#include<omp.h>\n",
        "\n",
        "using namespace std;\n",
        "int q[100];\n",
        "int visited[7];\n",
        "int local_q;\n",
        "\n",
        "void bfs(int adj_matrix[7][7], int first, int last, int q[], int n_nodes) {\n",
        "    if(first==last)\n",
        "      return;\n",
        "    \n",
        "    int cur_node = q[first++];\n",
        "    cout<<\"  \"<<cur_node;\n",
        "    \n",
        "    omp_set_num_threads(3);\n",
        "    \n",
        "    #pragma omp parallel for shared(visited)\n",
        "    for(int i=0; i<n_nodes; i++) {\n",
        "        if(adj_matrix[cur_node][i] == 1 && visited[i] == 0){\n",
        "            q[last++] = i;\n",
        "            visited[i] = 1;\n",
        "        }\n",
        "    }\n",
        "    \n",
        "    bfs(adj_matrix, first, last, q, n_nodes);\n",
        "}\n",
        "\n",
        "int main() {\n",
        "    int first = -1;\n",
        "    int last = 0;\n",
        "    int n_nodes = 7;\n",
        "    \n",
        "    for(int i=0; i<n_nodes; i++) {\n",
        "        visited[i] = 0;\n",
        "    }\n",
        "    \n",
        "    int adj_matrix[7][7] = {\n",
        "      {0, 1, 1, 0, 0, 0, 0},\n",
        "      {1, 0, 1, 1, 0, 0, 0},\n",
        "      {1, 1, 0, 0, 1, 0, 0},\n",
        "      {0, 1, 0, 0, 1, 0, 0},\n",
        "      {0, 0, 1, 1, 0, 1, 0},\n",
        "      {0, 0, 0, 0, 1, 0, 1},\n",
        "      {0, 0, 0, 0, 0, 1, 0}\n",
        "    };\n",
        "    \n",
        "    int start_node = 3;\n",
        "    q[last++] = start_node;\n",
        "    first++;\n",
        "    visited[start_node] = 1;\n",
        " \n",
        "    bfs(adj_matrix, first, last, q, n_nodes);\n",
        "    \n",
        "    return 0;\n",
        "    \n",
        "}\n",
        "\"\"\""
      ],
      "execution_count": null,
      "outputs": []
    },
    {
      "cell_type": "code",
      "metadata": {
        "id": "uNviBeCp0qBH"
      },
      "source": [
        "\n",
        "text_file = open(\"code.cpp\", \"w\")\n",
        "text_file.write(code)\n",
        "text_file.close()"
      ],
      "execution_count": null,
      "outputs": []
    },
    {
      "cell_type": "code",
      "metadata": {
        "id": "582xApTz0tSD"
      },
      "source": [
        "\n",
        "!g++ -fopenmp code.cpp"
      ],
      "execution_count": null,
      "outputs": []
    },
    {
      "cell_type": "code",
      "metadata": {
        "colab": {
          "base_uri": "https://localhost:8080/"
        },
        "id": "2Mk5PC9h0wU8",
        "outputId": "fab3dfb9-d953-472c-ef23-a65a4de0ae04"
      },
      "source": [
        "!./a.out"
      ],
      "execution_count": null,
      "outputs": [
        {
          "output_type": "stream",
          "text": [
            "  3  4  1  5  2  0  6"
          ],
          "name": "stdout"
        }
      ]
    },
    {
      "cell_type": "code",
      "metadata": {
        "id": "7U6YLMSQ03HZ"
      },
      "source": [
        ""
      ],
      "execution_count": null,
      "outputs": []
    }
  ]
}