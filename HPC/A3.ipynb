{
  "nbformat": 4,
  "nbformat_minor": 0,
  "metadata": {
    "colab": {
      "name": "OpenMP.ipynb",
      "provenance": []
    },
    "kernelspec": {
      "name": "python3",
      "display_name": "Python 3"
    }
  },
  "cells": [
    {
      "cell_type": "code",
      "metadata": {
        "id": "G0QAfyXjBrbL",
        "colab": {
          "base_uri": "https://localhost:8080/",
          "height": 34
        },
        "outputId": "0c040cff-fcec-477d-fbf6-38e6d269966f"
      },
      "source": [
        "%%writefile bubble.cpp\n",
        "\n",
        "#include<omp.h>\n",
        "#include<bits/stdc++.h>\n",
        "using namespace std;\n",
        "\n",
        "template<typename T>\n",
        "void print(T arr) {\n",
        "\tfor(auto& a: arr) {\n",
        "\t\tcout << a << ' ';\n",
        "\t}\n",
        "\tcout << '\\n';\n",
        "}\n",
        "\n",
        "int main() {\n",
        "\tsrand(time(NULL));\n",
        "\tdouble start, end;\n",
        "\n",
        "    int n = 1000;\n",
        "\tvector<int> a(n);\n",
        "\tfor(auto& e: a) {\n",
        "\t\te = rand()%n;\n",
        "\t}\n",
        "\tvector<int> b = a;\n",
        "\tcout << \"Input: \";\n",
        "\t/* print(a); */\n",
        "\n",
        "    start = omp_get_wtime();\n",
        "    for(int i = 0; i < n; i++) {\n",
        "\t\t#pragma omp parallel for\n",
        "        for(int j = 0; j < n-1; j++) {\n",
        "            if(a[j] > a[j+1]) {\n",
        "              swap(a[j], a[j+1]);\n",
        "\t\t\t}\n",
        "        }\n",
        "    }\n",
        "    end = omp_get_wtime();\n",
        "\n",
        "\tcout << \"Output(Parallel): \";\n",
        "\t/* print(a); */\n",
        "\tcout << \"Time taken(parallel): \" << end - start << endl;\n",
        "\n",
        "\n",
        "    start = omp_get_wtime();\n",
        "\tfor(int i = 0; i < n; i++) {\n",
        "        for(int j = 0; j < n-1; j++) {\n",
        "            if(b[j] > b[j+1]) {\n",
        "              swap(b[j], b[j+1]);\n",
        "\t\t\t}\n",
        "        }\n",
        "    }\n",
        "    end = omp_get_wtime();\n",
        "\tcout << '\\n';\n",
        "\tcout << \"Output(Serial): \";\n",
        "\t/* print(b); */\n",
        "\tcout << \"Time taken(Serial): \" << end - start << endl;\n",
        "    return 0;\n",
        "}\n"
      ],
      "execution_count": null,
      "outputs": [
        {
          "output_type": "stream",
          "text": [
            "Overwriting bubble.cpp\n"
          ],
          "name": "stdout"
        }
      ]
    },
    {
      "cell_type": "code",
      "metadata": {
        "id": "j1OJ6mPpBz2s"
      },
      "source": [
        "%%script bash\n",
        "\n",
        "g++ -fopenmp bubble.cpp -o bubble"
      ],
      "execution_count": null,
      "outputs": []
    },
    {
      "cell_type": "code",
      "metadata": {
        "id": "Kx4cLqW9DFi0",
        "colab": {
          "base_uri": "https://localhost:8080/",
          "height": 70
        },
        "outputId": "d75e0b11-2686-4946-8026-f6e0e7e72040"
      },
      "source": [
        "!./bubble"
      ],
      "execution_count": null,
      "outputs": [
        {
          "output_type": "stream",
          "text": [
            "Input: Output(Parallel): Time taken(parallel): 0.0136272\n",
            "\n",
            "Output(Serial): Time taken(Serial): 0.0110918\n"
          ],
          "name": "stdout"
        }
      ]
    },
    {
      "cell_type": "code",
      "metadata": {
        "id": "g0jl6vLMB_Vr",
        "colab": {
          "base_uri": "https://localhost:8080/",
          "height": 34
        },
        "outputId": "2853ed2a-d9ba-4470-ed5e-255804f5678d"
      },
      "source": [
        "%%writefile merge.cpp\n",
        "\n",
        "#include<bits/stdc++.h>\n",
        "#include<omp.h>\n",
        "\n",
        "using namespace std;\n",
        "\n",
        "template<typename T>\n",
        "void print(T& a) {\n",
        "\tfor(auto& e: a) {\n",
        "\t\tcout << e << ' ';\n",
        "\t}\n",
        "\tcout << '\\n';\n",
        "}\n",
        "\n",
        "void merge(vector<int>& arr, int low, int mid, int high) {\n",
        "\tvector<int> a;\n",
        "\tvector<int> b;\n",
        "\tfor(int i = low; i <= mid; i++) {\n",
        "\t\ta.push_back(arr[i]);\n",
        "\t}\n",
        "\tfor(int i = mid+1; i <= high; i++) {\n",
        "\t\tb.push_back(arr[i]);\n",
        "\t}\n",
        "\tint n = a.size();\n",
        "\tint m = b.size();\n",
        "\tint i = 0, j = 0;\n",
        "\tint start = low;\n",
        "\twhile(i!=n && j !=m) {\n",
        "\t\tif(a[i] <= b[j]) {\n",
        "\t\t\tarr[start++] = a[i++];\n",
        "\t\t} else {\n",
        "\t\t\tarr[start++] = b[j++];\n",
        "\t\t}\n",
        "\t}\n",
        "\twhile(i < n) {\n",
        "\t\tarr[start++] = a[i++];\n",
        "\t}\n",
        "\twhile(j < m) {\n",
        "\t\tarr[start++] = b[j++];\n",
        "\t}\n",
        "}\n",
        "\n",
        "void merge_sort(vector<int>& a, int low, int high) {\n",
        "\tif(high - low >= 1) {\n",
        "\t\tint mid = low + (high-low)/2;\n",
        "\t\tmerge_sort(a, low, mid);\n",
        "\t\tmerge_sort(a, mid+1, high);\n",
        "\t\tmerge(a, low, mid, high);\n",
        "\t}\n",
        "}\n",
        "\n",
        "void mergeSort(vector<int>& a, int low, int high) {\n",
        "\tif(high - low >= 1) {\n",
        "\t\tint mid = low + (high-low)/2;\n",
        "\t\t#pragma omp parallel sections\n",
        "\t\t{\n",
        "\t\t\t#pragma omp section\n",
        "\t\t\tmergeSort(a, low, mid);\n",
        "\t\t\t#pragma omp section\n",
        "\t\t\tmergeSort(a, mid+1, high);\n",
        "\t\t}\n",
        "\t\tmerge(a, low, mid, high);\n",
        "\t}\n",
        "}\n",
        "\n",
        "int main(int argc, char *argv[]) {\n",
        "\tsrand(time(NULL));\n",
        "    double start, end;\n",
        "\n",
        "\tint n = 100;\n",
        "\tvector<int> a(n);\n",
        "\tfor(auto& e: a) {\n",
        "\t\te = rand()%n;\n",
        "\t}\n",
        "\tvector<int> b = a;\n",
        "\tcout << \"Input: \";\n",
        "\tprint(a);\n",
        "\n",
        "    start = omp_get_wtime();\n",
        "\tmergeSort(a, 0, n-1);\n",
        "    end = omp_get_wtime();\n",
        "\n",
        "\tcout << \"Output: \";\n",
        "\tprint(a);\n",
        "\tcout << \"Time taken(for parallel): \" << end - start << endl;\n",
        "\n",
        "    start = omp_get_wtime();\n",
        "\tmerge_sort(b, 0, n-1);\n",
        "\tend = omp_get_wtime();\n",
        "\tcout << \"Time taken(for serial): \" << end - start << endl;\n",
        "\n",
        "    return 0;\n",
        "}\n"
      ],
      "execution_count": null,
      "outputs": [
        {
          "output_type": "stream",
          "text": [
            "Overwriting merge.cpp\n"
          ],
          "name": "stdout"
        }
      ]
    },
    {
      "cell_type": "code",
      "metadata": {
        "id": "Pr5J4zUeCHSH",
        "colab": {
          "base_uri": "https://localhost:8080/",
          "height": 107
        },
        "outputId": "f41d47a9-7c95-4abe-b2d8-6382bc6a3dbf"
      },
      "source": [
        "%%script bash\n",
        "\n",
        "g++ -fopenmp merge.cpp\n",
        "./a.out"
      ],
      "execution_count": null,
      "outputs": [
        {
          "output_type": "stream",
          "text": [
            "Input: 39 92 80 25 79 66 95 55 48 18 15 1 3 94 10 18 78 44 28 75 97 77 14 15 11 49 58 29 32 17 46 24 9 79 1 41 45 97 96 93 15 64 47 70 10 57 89 88 53 69 16 2 98 30 17 9 79 76 38 63 93 37 39 54 16 41 95 61 38 44 7 5 60 54 75 70 63 16 10 68 85 26 71 83 56 40 44 87 16 35 3 61 72 42 68 88 83 63 1 21 \n",
            "Output: 1 1 1 2 3 3 5 7 9 9 10 10 10 11 14 15 15 15 16 16 16 16 17 17 18 18 21 24 25 26 28 29 30 32 35 37 38 38 39 39 40 41 41 42 44 44 44 45 46 47 48 49 53 54 54 55 56 57 58 60 61 61 63 63 63 64 66 68 68 69 70 70 71 72 75 75 76 77 78 79 79 79 80 83 83 85 87 88 88 89 92 93 93 94 95 95 96 97 97 98 \n",
            "Time taken(for parallel): 0.000471276\n",
            "Time taken(for serial): 0.000150263\n"
          ],
          "name": "stdout"
        }
      ]
    },
    {
      "cell_type": "code",
      "metadata": {
        "id": "lqo0bCXED3wZ"
      },
      "source": [
        ""
      ],
      "execution_count": null,
      "outputs": []
    }
  ]
}